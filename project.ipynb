{
 "cells": [
  {
   "cell_type": "code",
   "execution_count": 1,
   "metadata": {},
   "outputs": [
    {
     "name": "stdout",
     "output_type": "stream",
     "text": [
      "[('https://open.spotify.com/track/28w8PK8OakJdce4WiNFtzo', '3:40'), ('https://open.spotify.com/track/6ei4QrpcciclGH593uHKo8', '4:27'), ('https://open.spotify.com/track/5tDf33JbOJW8y8YK5ou83e', '1:05'), ('https://open.spotify.com/track/3jfZ9M23l0L7RxzYMTgBTv', '2:59'), ('https://open.spotify.com/track/1foMv2HQwfQ2vntFf9HFeG', '3:20'), ('https://open.spotify.com/track/7wCmS9TTVUcIhRalDYFgPy', '3:54'), ('https://open.spotify.com/track/2R4AlwtrrkMaRKojcTIzmL', '3:02'), ('https://open.spotify.com/track/1dN4z2pd4GgtkkeMas2myu', '4:20'), ('https://open.spotify.com/track/2bOue3KYQBjRJcfWzpVB7o', '2:53'), ('https://open.spotify.com/track/3HfhB8sYqLlVmpBPb7cc2x', '3:18'), ('https://open.spotify.com/track/0LtOwyZoSNZKJWHqjzADpW', '3:12'), ('https://open.spotify.com/track/5fr0ocIee7TpDCRWaK0002', '4:07'), ('https://open.spotify.com/track/1ZnIS5sO40hECBKRH8tK7D', '2:40'), ('https://open.spotify.com/track/67KGo1Lfmqi0geZKf2EmRW', '3:25'), ('https://open.spotify.com/track/5toKOQ86ydhA5UJ8DfENzy', '1:51'), ('https://open.spotify.com/track/5VKEsChbUowEF2BT0gJSGX', '4:57'), ('https://open.spotify.com/track/06CUyVD4i6YQ8X9dXC7mI6', '2:42'), ('https://open.spotify.com/track/5GZjhisi7vzZqPfcbxeskC', '5:01'), ('https://open.spotify.com/track/2va4puCcztY96x0ZmXBAeL', '5:47'), ('https://open.spotify.com/track/5Y3TVqaPbleovLut0f16IF', '3:05')]\n"
     ]
    }
   ],
   "source": [
    "import spotipy\n",
    "from spotipy.oauth2 import SpotifyClientCredentials, SpotifyOAuth\n",
    "spotify=spotipy.Spotify(auth_manager=SpotifyClientCredentials(client_id=\"f17426cd426c406eb0909cb148cb0981\",client_secret='0f16e1667986460c9841c0aa0944415a'))\n",
    "\n",
    "class Song:\n",
    "    def __init__(self, name, artist, url, duration, preview_url, cover_big, cover_medium, cover_small):\n",
    "        self.name = name\n",
    "        self.artist = artist\n",
    "        self.url = url\n",
    "        self.duration = duration\n",
    "        self.preview_url = preview_url\n",
    "        self.cover_big = cover_big\n",
    "        self.cover_medium = cover_medium\n",
    "        self.cover_small = cover_small\n",
    "    \n",
    "    def __repr__(self):\n",
    "        return f'{self.name} by {self.artist}'\n",
    "\n",
    "class Playlist:\n",
    "    def __init__(self, track):\n",
    "        self.songs = []\n",
    "        recomendations = spotify.recommendations(seed_tracks=[track])\n",
    "        recomendations = recomendations['tracks']\n",
    "        for track in recomendations:\n",
    "            name = track['name']\n",
    "            artist = ', '.join([artist['name'] for artist in track['artists']])\n",
    "            url = track['external_urls']['spotify']\n",
    "            duration = track['duration_ms']\n",
    "            seconds = (duration / 1000) % 60\n",
    "            minutes = (duration / (1000 * 60)) % 60\n",
    "            duration = f'{int(minutes)}:{int(seconds):02d}'\n",
    "            preview_url = track['preview_url']\n",
    "            cover_big = track['album']['images'][0]['url']\n",
    "            cover_medium = track['album']['images'][1]['url']\n",
    "            cover_small = track['album']['images'][2]['url']\n",
    "            song = Song(name, artist, url, duration, preview_url,\n",
    "                        cover_big, cover_medium, cover_small)\n",
    "            self.songs.append(song)\n",
    "    \n",
    "    def __repr__(self):\n",
    "        return f'{[(song.url, song.duration) for song in self.songs]}'\n",
    "\n",
    "playlist=Playlist('https://open.spotify.com/track/65r94rVdiMwqXyQFEr3tqT?si=14d8b2bca3cb4e3f')\n",
    "print(playlist)"
   ]
  }
 ],
 "metadata": {
  "kernelspec": {
   "display_name": "Python 3",
   "language": "python",
   "name": "python3"
  },
  "language_info": {
   "codemirror_mode": {
    "name": "ipython",
    "version": 3
   },
   "file_extension": ".py",
   "mimetype": "text/x-python",
   "name": "python",
   "nbconvert_exporter": "python",
   "pygments_lexer": "ipython3",
   "version": "3.11.8"
  }
 },
 "nbformat": 4,
 "nbformat_minor": 2
}
