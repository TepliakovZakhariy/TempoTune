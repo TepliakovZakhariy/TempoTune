{
 "cells": [
  {
   "cell_type": "code",
   "execution_count": 2,
   "metadata": {},
   "outputs": [
    {
     "name": "stdout",
     "output_type": "stream",
     "text": [
      "['https://open.spotify.com/track/03EJHknSApk8dgFNeFgwFX', 'https://open.spotify.com/track/7IyCrKuxOUWagaFFERU3hr', 'https://open.spotify.com/track/6arBmB6pDSG4zSJSZe5wMf', 'https://open.spotify.com/track/6pQeLsC34pZJryEUdMswSE', 'https://open.spotify.com/track/7yNvw01JbuqA2tNBkRRqh7', 'https://open.spotify.com/track/31cNfeFWpJYJ0rPeLTzXDk', 'https://open.spotify.com/track/4rlOSalyOrLZt4b5mmOr1R', 'https://open.spotify.com/track/2jDbVW3bTT82VsIfKcZQyc', 'https://open.spotify.com/track/1jBP9dV1MJhVcNh75yCT6I', 'https://open.spotify.com/track/5XnwT2VYXoDz0ahj4XrsWl', 'https://open.spotify.com/track/6f0vJU8my3VKiLlHkUyO4K', 'https://open.spotify.com/track/2ytQbzITABN8A3BTkCjDE5', 'https://open.spotify.com/track/2yLa3vTYm9y5CUjdKMOZgC', 'https://open.spotify.com/track/5CgNC7aMZhWZYb9iNHV5GZ', 'https://open.spotify.com/track/1v4wTGL3HAAUDcLjJXiQWG', 'https://open.spotify.com/track/6jmsb49jk3TnqEnXXKTQ5Z', 'https://open.spotify.com/track/1bdgEnY9NoaRGwxVeRiQAm', 'https://open.spotify.com/track/1uAnBm1hMBWkIFdRwXfCOK', 'https://open.spotify.com/track/035RhJgtsRgd5ubTDvZS5A', 'https://open.spotify.com/track/3A9h3Tso3Kpc7v1IwBOWT1']\n"
     ]
    }
   ],
   "source": [
    "import spotipy\n",
    "from spotipy.oauth2 import SpotifyClientCredentials, SpotifyOAuth\n",
    "spotify=spotipy.Spotify(auth_manager=SpotifyClientCredentials())\n",
    "\n",
    "class Song:\n",
    "    def __init__(self, name, artist, url, duration, preview_url, cover_big, cover_medium, cover_small):\n",
    "        self.name = name\n",
    "        self.artist = artist\n",
    "        self.url = url\n",
    "        self.duration = duration\n",
    "        self.preview_url = preview_url\n",
    "        self.cover_big = cover_big\n",
    "        self.cover_medium = cover_medium\n",
    "        self.cover_small = cover_small\n",
    "    \n",
    "    def __repr__(self):\n",
    "        return f'{self.name} by {self.artist}'\n",
    "\n",
    "class Playlist:\n",
    "    def __init__(self, track):\n",
    "        self.songs = []\n",
    "        recomendations = spotify.recommendations(seed_tracks=[track])\n",
    "        recomendations = recomendations['tracks']\n",
    "        for track in recomendations:\n",
    "            name = track['name']\n",
    "            artist = ', '.join([artist['name'] for artist in track['artists']])\n",
    "            url = track['external_urls']['spotify']\n",
    "            duration = track['duration_ms']\n",
    "            seconds = (duration / 1000) % 60\n",
    "            minutes = (duration / (1000 * 60)) % 60\n",
    "            duration = f'{int(minutes)}:{int(seconds):02d}'\n",
    "            preview_url = track['preview_url']\n",
    "            cover_big = track['album']['images'][0]['url']\n",
    "            cover_medium = track['album']['images'][1]['url']\n",
    "            cover_small = track['album']['images'][2]['url']\n",
    "            song = Song(name, artist, url, duration, preview_url,\n",
    "                        cover_big, cover_medium, cover_small)\n",
    "            self.songs.append(song)\n",
    "    \n",
    "    def __repr__(self):\n",
    "        return f'{[song.url for song in self.songs]}'\n",
    "\n",
    "playlist=Playlist('https://open.spotify.com/track/10qbHF920zH5K8C8IcE5AL?si=9adcd61a0f224e67')\n",
    "print(playlist)"
   ]
  }
 ],
 "metadata": {
  "kernelspec": {
   "display_name": "Python 3",
   "language": "python",
   "name": "python3"
  },
  "language_info": {
   "codemirror_mode": {
    "name": "ipython",
    "version": 3
   },
   "file_extension": ".py",
   "mimetype": "text/x-python",
   "name": "python",
   "nbconvert_exporter": "python",
   "pygments_lexer": "ipython3",
   "version": "3.11.8"
  }
 },
 "nbformat": 4,
 "nbformat_minor": 2
}
