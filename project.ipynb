{
 "cells": [
  {
   "cell_type": "code",
   "execution_count": 7,
   "metadata": {},
   "outputs": [
    {
     "name": "stdout",
     "output_type": "stream",
     "text": [
      "{'songs': [Uptown Funk (feat. Bruno Mars) by Mark Ronson, Bruno Mars, Rock with you by SEVENTEEN, DUMB DUMB by JEON SOMI, Therefore I Am by Billie Eilish, Attention by NewJeans, LILAC by IU, ONE SPARK by TWICE, Thunderous by Stray Kids, Without Me by Halsey, Permission to Dance by BTS, Super by SEVENTEEN, Chicken Noodle Soup (feat. Becky G) by j-hope, Becky G, Closer by The Chainsmokers, Halsey, Into the Unknown - Panic! At The Disco Version by Panic! At The Disco, Telepathy by BTS, God's Menu by Stray Kids, I Love My Body by HWASA, We Are Never Ever Getting Back Together by Taylor Swift, Love Myself by Hailee Steinfeld, Tick Tock (feat. 24kGoldn) by Clean Bandit, Mabel, 24kGoldn], 'total_duration': '01:05:01'}\n"
     ]
    }
   ],
   "source": [
    "import spotipy\n",
    "from spotipy.oauth2 import SpotifyClientCredentials, SpotifyOAuth\n",
    "spotify_client=spotipy.Spotify(auth_manager=SpotifyClientCredentials(client_id=\"f17426cd426c406eb0909cb148cb0981\",client_secret='0f16e1667986460c9841c0aa0944415a'))\n",
    "spotify_user=spotipy.Spotify(auth_manager=SpotifyOAuth())\n",
    "\n",
    "\n",
    "class Song:\n",
    "    def __init__(self, name, artist, url, duration, preview_url, cover_big, cover_medium, cover_small):\n",
    "        self.name = name\n",
    "        self.artist = artist\n",
    "        self.url = url\n",
    "        self.duration = duration\n",
    "        self.preview_url = preview_url\n",
    "        self.cover_big = cover_big\n",
    "        self.cover_medium = cover_medium\n",
    "        self.cover_small = cover_small\n",
    "    \n",
    "    def __repr__(self):\n",
    "        return f'{self.name} by {self.artist}'\n",
    "\n",
    "def milliseconds_to_string_duration(milliseconds):\n",
    "    seconds, milliseconds = divmod(milliseconds, 1000)\n",
    "    minutes, seconds = divmod(seconds, 60)\n",
    "    hours, minutes = divmod(minutes, 60)\n",
    "\n",
    "    duration_string = \"{:02}:{:02}\".format(minutes, seconds)\n",
    "\n",
    "    if hours > 0:\n",
    "        duration_string = \"{:02}:{:02}\".format(hours, duration_string)\n",
    "\n",
    "    return duration_string\n",
    "\n",
    "class Playlist:\n",
    "    def __init__(self, track):\n",
    "        self.songs = []\n",
    "        self.total_duration=0\n",
    "        recomendations = spotify_client.recommendations(seed_tracks=[track])\n",
    "        recomendations = recomendations['tracks']\n",
    "        for track in recomendations:\n",
    "            name = track['name']\n",
    "            artist = ', '.join([artist['name'] for artist in track['artists']])\n",
    "            url = track['external_urls']['spotify']\n",
    "            duration = track['duration_ms']\n",
    "            self.total_duration+=duration\n",
    "            duration=milliseconds_to_string_duration(duration)\n",
    "            preview_url = track['preview_url']\n",
    "            cover_big = track['album']['images'][0]['url']\n",
    "            cover_medium = track['album']['images'][1]['url']\n",
    "            cover_small = track['album']['images'][2]['url']\n",
    "            song = Song(name, artist, url, duration, preview_url,\n",
    "                        cover_big, cover_medium, cover_small)\n",
    "            self.songs.append(song)\n",
    "        self.total_duration=milliseconds_to_string_duration(self.total_duration)\n",
    "    \n",
    "    def __repr__(self):\n",
    "        return f'{self.total_duration}{[(song.url, song.duration) for song in self.songs]}'\n",
    "\n",
    "playlist=Playlist('https://open.spotify.com/track/5QDLhrAOJJdNAmCTJ8xMyW?si=b2e3850f3a6f474e')\n",
    "print(playlist.__dict__)"
   ]
  }
 ],
 "metadata": {
  "kernelspec": {
   "display_name": "Python 3",
   "language": "python",
   "name": "python3"
  },
  "language_info": {
   "codemirror_mode": {
    "name": "ipython",
    "version": 3
   },
   "file_extension": ".py",
   "mimetype": "text/x-python",
   "name": "python",
   "nbconvert_exporter": "python",
   "pygments_lexer": "ipython3",
   "version": "3.11.8"
  }
 },
 "nbformat": 4,
 "nbformat_minor": 2
}
