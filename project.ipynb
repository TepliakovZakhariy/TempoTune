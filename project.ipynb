{
 "cells": [
  {
   "cell_type": "code",
   "execution_count": 9,
   "metadata": {},
   "outputs": [
    {
     "name": "stdout",
     "output_type": "stream",
     "text": [
      "[('https://open.spotify.com/track/7H0ya83CMmgFcOhw0UB6ow', '5:20'), ('https://open.spotify.com/track/4gVvbn4m0xkLYdMujbuPsq', '3:43'), ('https://open.spotify.com/track/6ei4QrpcciclGH593uHKo8', '4:27'), ('https://open.spotify.com/track/0sMra9TqwOskuvn4eR11n3', '3:09'), ('https://open.spotify.com/track/4yx91SkOX4OWjUmhEj4rDl', '5:02'), ('https://open.spotify.com/track/6lAMnXLVCBPMXXWAK4lGSL', '3:33'), ('https://open.spotify.com/track/1ZnIS5sO40hECBKRH8tK7D', '2:40'), ('https://open.spotify.com/track/3NM41PVVUr0ceootKAtkAj', '3:38'), ('https://open.spotify.com/track/0IcpTQLMJgdsrqrJq2tJow', '4:24'), ('https://open.spotify.com/track/4TimKwMIY6mTJXEdSilVP9', '3:28'), ('https://open.spotify.com/track/1hU7RjoKvdRkfmruRLFYsU', '5:25'), ('https://open.spotify.com/track/4xF4ZBGPZKxECeDFrqSAG4', '2:04'), ('https://open.spotify.com/track/4RpwQDPnn1GhWpZooUcCzd', '3:47'), ('https://open.spotify.com/track/69KUKhBqyGvtO1jtJwZEcv', '4:09'), ('https://open.spotify.com/track/4z9KVNX4hmk672SJfhtQNz', '3:44'), ('https://open.spotify.com/track/6WDNhLD99fjMGgf2EJQZLC', '2:54'), ('https://open.spotify.com/track/2va4puCcztY96x0ZmXBAeL', '5:47'), ('https://open.spotify.com/track/1Fwj0wThn3kTg8D7KgWdsU', '2:31'), ('https://open.spotify.com/track/5fr0ocIee7TpDCRWaK0002', '4:07'), ('https://open.spotify.com/track/6dVqbuFRtVTnVTKFAZCXlu', '4:30')]\n"
     ]
    }
   ],
   "source": [
    "import spotipy\n",
    "from spotipy.oauth2 import SpotifyClientCredentials, SpotifyOAuth\n",
    "spotify_client=spotipy.Spotify(auth_manager=SpotifyClientCredentials(client_id=\"f17426cd426c406eb0909cb148cb0981\",client_secret='0f16e1667986460c9841c0aa0944415a'))\n",
    "spotify_user=spotipy.Spotify(auth_manager=SpotifyOAuth())\n",
    "\n",
    "\n",
    "class Song:\n",
    "    def __init__(self, name, artist, url, duration, preview_url, cover_big, cover_medium, cover_small):\n",
    "        self.name = name\n",
    "        self.artist = artist\n",
    "        self.url = url\n",
    "        self.duration = duration\n",
    "        self.preview_url = preview_url\n",
    "        self.cover_big = cover_big\n",
    "        self.cover_medium = cover_medium\n",
    "        self.cover_small = cover_small\n",
    "    \n",
    "    def __repr__(self):\n",
    "        return f'{self.name} by {self.artist}'\n",
    "\n",
    "class Playlist:\n",
    "    def __init__(self, track):\n",
    "        self.songs = []\n",
    "        recomendations = spotify.recommendations(seed_tracks=[track])\n",
    "        recomendations = recomendations['tracks']\n",
    "        for track in recomendations:\n",
    "            name = track['name']\n",
    "            artist = ', '.join([artist['name'] for artist in track['artists']])\n",
    "            url = track['external_urls']['spotify']\n",
    "            duration = track['duration_ms']\n",
    "            seconds = (duration / 1000) % 60\n",
    "            minutes = (duration / (1000 * 60)) % 60\n",
    "            duration = f'{int(minutes)}:{int(seconds):02d}'\n",
    "            preview_url = track['preview_url']\n",
    "            cover_big = track['album']['images'][0]['url']\n",
    "            cover_medium = track['album']['images'][1]['url']\n",
    "            cover_small = track['album']['images'][2]['url']\n",
    "            song = Song(name, artist, url, duration, preview_url,\n",
    "                        cover_big, cover_medium, cover_small)\n",
    "            self.songs.append(song)\n",
    "    \n",
    "    def __repr__(self):\n",
    "        return f'{[(song.url, song.duration) for song in self.songs]}'\n",
    "\n",
    "playlist=Playlist('https://open.spotify.com/track/65r94rVdiMwqXyQFEr3tqT?si=14d8b2bca3cb4e3f')\n",
    "print(playlist)"
   ]
  }
 ],
 "metadata": {
  "kernelspec": {
   "display_name": "Python 3",
   "language": "python",
   "name": "python3"
  },
  "language_info": {
   "codemirror_mode": {
    "name": "ipython",
    "version": 3
   },
   "file_extension": ".py",
   "mimetype": "text/x-python",
   "name": "python",
   "nbconvert_exporter": "python",
   "pygments_lexer": "ipython3",
   "version": "3.11.8"
  }
 },
 "nbformat": 4,
 "nbformat_minor": 2
}
