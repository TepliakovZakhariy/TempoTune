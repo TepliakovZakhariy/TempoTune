{
 "cells": [
  {
   "cell_type": "code",
   "execution_count": 7,
   "metadata": {},
   "outputs": [
    {
     "name": "stdout",
     "output_type": "stream",
     "text": [
      "https://open.spotify.com/track/1eD8fNbyfyXWrTLokilmEM?si=893bd1918ef24737\n",
      "{'songs': [The Ensemble of Silence by Empyrium, Storm by MØL, Earthbound by Sylvaine, 40 Days by Slowdive, A Poem (Written In Moonlight) by Saturnus, Svartir Sandar by Sólstafir, Wormwood by Callisto, The Inevitable End - Remastered by Woods of Desolation, Not Unlike The Waves (2016 - Remaster) by Agalloch, Epitome XIV by Blut Aus Nord, Écailles de lune, Pt. 1 - BBC Live Session by Alcest, The Cry of Mankind by My Dying Bride, La traversée by Les Discrets, All The Little Things You Forget Are Stored In Heaven by Cold Body Radiation, Sunbather by Deafheaven, First Rays of Dawn by Skyforest, Sapphire by Alcest, Taker by DIIV, Happyhouse by Ghost Bath, At Sea by Cold Body Radiation], 'total_duration': '02:24:35'}\n"
     ]
    }
   ],
   "source": [
    "import spotipy\n",
    "from spotipy.oauth2 import SpotifyClientCredentials, SpotifyOAuth\n",
    "spotify_client=spotipy.Spotify(auth_manager=SpotifyClientCredentials(client_id=\"f17426cd426c406eb0909cb148cb0981\",client_secret='0f16e1667986460c9841c0aa0944415a'))\n",
    "spotify_user=spotipy.Spotify(auth_manager=SpotifyOAuth())\n",
    "\n",
    "\n",
    "class Song:\n",
    "    def __init__(self, name, artist, url, duration, preview_url, cover_big, cover_medium, cover_small):\n",
    "        self.name = name\n",
    "        self.artist = artist\n",
    "        self.url = url\n",
    "        self.duration = duration\n",
    "        self.preview_url = preview_url\n",
    "        self.cover_big = cover_big\n",
    "        self.cover_medium = cover_medium\n",
    "        self.cover_small = cover_small\n",
    "    \n",
    "    def __repr__(self):\n",
    "        return f'{self.name} by {self.artist}'\n",
    "\n",
    "def milliseconds_to_string_duration(milliseconds):\n",
    "    seconds, milliseconds = divmod(milliseconds, 1000)\n",
    "    minutes, seconds = divmod(seconds, 60)\n",
    "    hours, minutes = divmod(minutes, 60)\n",
    "\n",
    "    duration_string = \"{:02}:{:02}\".format(minutes, seconds)\n",
    "\n",
    "    if hours > 0:\n",
    "        duration_string = \"{:02}:{:02}\".format(hours, duration_string)\n",
    "\n",
    "    return duration_string\n",
    "\n",
    "class Playlist:\n",
    "    def __init__(self, track):\n",
    "        self.songs = []\n",
    "        self.total_duration=0\n",
    "        recomendations = spotify_client.recommendations(seed_tracks=[track])\n",
    "        recomendations = recomendations['tracks']\n",
    "        for track in recomendations:\n",
    "            name = track['name']\n",
    "            artist = ', '.join([artist['name'] for artist in track['artists']])\n",
    "            url = track['external_urls']['spotify']\n",
    "            duration = track['duration_ms']\n",
    "            self.total_duration+=duration\n",
    "            duration=milliseconds_to_string_duration(duration)\n",
    "            preview_url = track['preview_url']\n",
    "            cover_big = track['album']['images'][0]['url']\n",
    "            cover_medium = track['album']['images'][1]['url']\n",
    "            cover_small = track['album']['images'][2]['url']\n",
    "            song = Song(name, artist, url, duration, preview_url,\n",
    "                        cover_big, cover_medium, cover_small)\n",
    "            self.songs.append(song)\n",
    "        self.total_duration=milliseconds_to_string_duration(self.total_duration)\n",
    "    \n",
    "    def __repr__(self):\n",
    "        return f'{self.total_duration}{[(song.url, song.duration) for song in self.songs]}'\n",
    "\n",
    "song = \"https://open.spotify.com/track/1eD8fNbyfyXWrTLokilmEM?si=893bd1918ef24737\"\n",
    "if 'open.spotify.com' not in song:\n",
    "    song = spotify_client.search(q=song, type='track')['tracks']['items'][0]['external_urls']['spotify']\n",
    "print(song)\n",
    "playlist=Playlist(song)\n",
    "print(playlist.__dict__)"
   ]
  },
  {
   "cell_type": "code",
   "execution_count": null,
   "metadata": {},
   "outputs": [],
   "source": []
  }
 ],
 "metadata": {
  "kernelspec": {
   "display_name": "Python 3",
   "language": "python",
   "name": "python3"
  },
  "language_info": {
   "codemirror_mode": {
    "name": "ipython",
    "version": 3
   },
   "file_extension": ".py",
   "mimetype": "text/x-python",
   "name": "python",
   "nbconvert_exporter": "python",
   "pygments_lexer": "ipython3",
   "version": "3.11.8"
  }
 },
 "nbformat": 4,
 "nbformat_minor": 2
}
