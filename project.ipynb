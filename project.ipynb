{
 "cells": [
  {
   "cell_type": "code",
   "execution_count": 2,
   "metadata": {},
   "outputs": [
    {
     "name": "stdout",
     "output_type": "stream",
     "text": [
      "https://open.spotify.com/track/1eD8fNbyfyXWrTLokilmEM?si=893bd1918ef24737\n",
      "{'id': 8993533986516234993276559985767398388, 'songs': [{'name': 'Real Hip-Hop', 'artist': 'Das EFX', 'url': 'https://open.spotify.com/track/7Kutf53V4k0CvU4nKu5oK6', 'duration': '04:07', 'preview_url': 'https://p.scdn.co/mp3-preview/4cef95fcb2a20061e08781cadeb03633d027c8bc?cid=f17426cd426c406eb0909cb148cb0981', 'cover_big': 'https://i.scdn.co/image/ab67616d0000b2733c946b69fd47394d3d8a6003', 'cover_medium': 'https://i.scdn.co/image/ab67616d00001e023c946b69fd47394d3d8a6003', 'cover_small': 'https://i.scdn.co/image/ab67616d000048513c946b69fd47394d3d8a6003'}, {'name': 'Nappy Heads - Remix', 'artist': 'Fugees, Salaam Remi', 'url': 'https://open.spotify.com/track/0hKr166QnNZ0a37G4UO0VY', 'duration': '05:22', 'preview_url': 'https://p.scdn.co/mp3-preview/91ae960a122c75ed52b6b2da55a7d45e2ee4ce4e?cid=f17426cd426c406eb0909cb148cb0981', 'cover_big': 'https://i.scdn.co/image/ab67616d0000b273157b3fe32437a57ca97dd31a', 'cover_medium': 'https://i.scdn.co/image/ab67616d00001e02157b3fe32437a57ca97dd31a', 'cover_small': 'https://i.scdn.co/image/ab67616d00004851157b3fe32437a57ca97dd31a'}, {'name': 'Beautiful', 'artist': 'Snoop Dogg, Pharrell Williams, Charlie Wilson', 'url': 'https://open.spotify.com/track/7FrJV8tydWEv1Mxu2mIQrm', 'duration': '04:58', 'preview_url': None, 'cover_big': 'https://i.scdn.co/image/ab67616d0000b2738cdb0d29bb99ad4febccac39', 'cover_medium': 'https://i.scdn.co/image/ab67616d00001e028cdb0d29bb99ad4febccac39', 'cover_small': 'https://i.scdn.co/image/ab67616d000048518cdb0d29bb99ad4febccac39'}, {'name': 'Beware', 'artist': 'Big Pun', 'url': 'https://open.spotify.com/track/0fpVsdhxofrLCZL1CWETxa', 'duration': '03:15', 'preview_url': 'https://p.scdn.co/mp3-preview/d61e1c77c83f1208dc27b0e5841eaafc01308c41?cid=f17426cd426c406eb0909cb148cb0981', 'cover_big': 'https://i.scdn.co/image/ab67616d0000b2738c7a8e68dc5c20bb72f713f2', 'cover_medium': 'https://i.scdn.co/image/ab67616d00001e028c7a8e68dc5c20bb72f713f2', 'cover_small': 'https://i.scdn.co/image/ab67616d000048518c7a8e68dc5c20bb72f713f2'}, {'name': 'Bitch, Don’t Kill My Vibe', 'artist': 'Kendrick Lamar', 'url': 'https://open.spotify.com/track/4Pwjz3DfvfQWV0rO2V8jyh', 'duration': '05:10', 'preview_url': None, 'cover_big': 'https://i.scdn.co/image/ab67616d0000b273d28d2ebdedb220e479743797', 'cover_medium': 'https://i.scdn.co/image/ab67616d00001e02d28d2ebdedb220e479743797', 'cover_small': 'https://i.scdn.co/image/ab67616d00004851d28d2ebdedb220e479743797'}, {'name': 'Doo Wop (That Thing)', 'artist': 'Ms. Lauryn Hill', 'url': 'https://open.spotify.com/track/0uEp9E98JB5awlA084uaIg', 'duration': '05:20', 'preview_url': 'https://p.scdn.co/mp3-preview/feb1c988c1940d63a3af836f2965f04177dc24c9?cid=f17426cd426c406eb0909cb148cb0981', 'cover_big': 'https://i.scdn.co/image/ab67616d0000b273e08b1250db5f75643f1508c9', 'cover_medium': 'https://i.scdn.co/image/ab67616d00001e02e08b1250db5f75643f1508c9', 'cover_small': 'https://i.scdn.co/image/ab67616d00004851e08b1250db5f75643f1508c9'}, {'name': \"Keep Their Heads Ringin'\", 'artist': 'Dr. Dre', 'url': 'https://open.spotify.com/track/1rylJ0VXvhOzLGNm401iaI', 'duration': '05:10', 'preview_url': None, 'cover_big': 'https://i.scdn.co/image/ab67616d0000b2739330b3ab457779ed4137493b', 'cover_medium': 'https://i.scdn.co/image/ab67616d00001e029330b3ab457779ed4137493b', 'cover_small': 'https://i.scdn.co/image/ab67616d000048519330b3ab457779ed4137493b'}, {'name': 'Straight Outta Compton', 'artist': 'N.W.A.', 'url': 'https://open.spotify.com/track/6KIKRz9eSTXdNsGUnomdtW', 'duration': '04:18', 'preview_url': None, 'cover_big': 'https://i.scdn.co/image/ab67616d0000b273c79a70e8167cc1a4fab83781', 'cover_medium': 'https://i.scdn.co/image/ab67616d00001e02c79a70e8167cc1a4fab83781', 'cover_small': 'https://i.scdn.co/image/ab67616d00004851c79a70e8167cc1a4fab83781'}, {'name': 'I Gave You Power', 'artist': 'Nas', 'url': 'https://open.spotify.com/track/4dSLfdnCy43DPJiqpoZoKe', 'duration': '03:52', 'preview_url': 'https://p.scdn.co/mp3-preview/f862e66978fa22ff72f0c3ed8448321bef379b14?cid=f17426cd426c406eb0909cb148cb0981', 'cover_big': 'https://i.scdn.co/image/ab67616d0000b273886d823ecbfcbe661a6b0ab9', 'cover_medium': 'https://i.scdn.co/image/ab67616d00001e02886d823ecbfcbe661a6b0ab9', 'cover_small': 'https://i.scdn.co/image/ab67616d00004851886d823ecbfcbe661a6b0ab9'}, {'name': 'Boom - Explicit Album Version', 'artist': 'Royce Da 5\\'9\"', 'url': 'https://open.spotify.com/track/6k39WGLrbuNYpdcNDjWTJt', 'duration': '03:53', 'preview_url': 'https://p.scdn.co/mp3-preview/b872281d4eb5214afaa545e73a22932b3e4dce20?cid=f17426cd426c406eb0909cb148cb0981', 'cover_big': 'https://i.scdn.co/image/ab67616d0000b27308f58f3befeec09d76db0813', 'cover_medium': 'https://i.scdn.co/image/ab67616d00001e0208f58f3befeec09d76db0813', 'cover_small': 'https://i.scdn.co/image/ab67616d0000485108f58f3befeec09d76db0813'}, {'name': 'Oh My God (feat. Busta Rhymes)', 'artist': 'A Tribe Called Quest, Busta Rhymes', 'url': 'https://open.spotify.com/track/6FI3RJ58Ztl0X1VtA6pVs9', 'duration': '03:28', 'preview_url': 'https://p.scdn.co/mp3-preview/4c6c39d01524baa718248115b3296c8fff15a6af?cid=f17426cd426c406eb0909cb148cb0981', 'cover_big': 'https://i.scdn.co/image/ab67616d0000b273f306af1dae08f81f9d6f1f9f', 'cover_medium': 'https://i.scdn.co/image/ab67616d00001e02f306af1dae08f81f9d6f1f9f', 'cover_small': 'https://i.scdn.co/image/ab67616d00004851f306af1dae08f81f9d6f1f9f'}, {'name': 'Alright', 'artist': 'Kendrick Lamar', 'url': 'https://open.spotify.com/track/3iVcZ5G6tvkXZkZKlMpIUs', 'duration': '03:39', 'preview_url': None, 'cover_big': 'https://i.scdn.co/image/ab67616d0000b273cdb645498cd3d8a2db4d05e1', 'cover_medium': 'https://i.scdn.co/image/ab67616d00001e02cdb645498cd3d8a2db4d05e1', 'cover_small': 'https://i.scdn.co/image/ab67616d00004851cdb645498cd3d8a2db4d05e1'}, {'name': 'Work', 'artist': 'Gang Starr', 'url': 'https://open.spotify.com/track/1EiLrPd8JMTcQUr1aLEUKi', 'duration': '02:57', 'preview_url': None, 'cover_big': 'https://i.scdn.co/image/ab67616d0000b2733a76edacefe2e7a589222787', 'cover_medium': 'https://i.scdn.co/image/ab67616d00001e023a76edacefe2e7a589222787', 'cover_small': 'https://i.scdn.co/image/ab67616d000048513a76edacefe2e7a589222787'}, {'name': 'Potato Salad', 'artist': 'Tyler, The Creator, A$AP Rocky', 'url': 'https://open.spotify.com/track/1jzIJcHCXneHw7ojC6LXiF', 'duration': '03:02', 'preview_url': 'https://p.scdn.co/mp3-preview/4bbfab0e31b751d2eb30dc60162d0ac54f107706?cid=f17426cd426c406eb0909cb148cb0981', 'cover_big': 'https://i.scdn.co/image/ab67616d0000b273215cac8c30b47bb1bfb9d2d1', 'cover_medium': 'https://i.scdn.co/image/ab67616d00001e02215cac8c30b47bb1bfb9d2d1', 'cover_small': 'https://i.scdn.co/image/ab67616d00004851215cac8c30b47bb1bfb9d2d1'}, {'name': 'Invocation', 'artist': 'Common', 'url': 'https://open.spotify.com/track/1zS4PMsHfkSXPkzrEkCkC6', 'duration': '02:14', 'preview_url': 'https://p.scdn.co/mp3-preview/8fb02d63ad5277aeea1f5ac55f33d2a8eb367ce6?cid=f17426cd426c406eb0909cb148cb0981', 'cover_big': 'https://i.scdn.co/image/ab67616d0000b273c5f66637f2447f4634c41eb9', 'cover_medium': 'https://i.scdn.co/image/ab67616d00001e02c5f66637f2447f4634c41eb9', 'cover_small': 'https://i.scdn.co/image/ab67616d00004851c5f66637f2447f4634c41eb9'}, {'name': \"Shadowboxin'\", 'artist': 'GZA, Method Man', 'url': 'https://open.spotify.com/track/7bp5DfkdK1OAvNJ1U4HfDA', 'duration': '03:29', 'preview_url': None, 'cover_big': 'https://i.scdn.co/image/ab67616d0000b27384b6abc19fb31fb382378bbc', 'cover_medium': 'https://i.scdn.co/image/ab67616d00001e0284b6abc19fb31fb382378bbc', 'cover_small': 'https://i.scdn.co/image/ab67616d0000485184b6abc19fb31fb382378bbc'}, {'name': \"Street Talkin'\", 'artist': 'Slick Rick, Outkast', 'url': 'https://open.spotify.com/track/4TGHOWSNAwUXn5onDQr0P1', 'duration': '03:41', 'preview_url': None, 'cover_big': 'https://i.scdn.co/image/ab67616d0000b273e9a2bb369e73812ebcf30b56', 'cover_medium': 'https://i.scdn.co/image/ab67616d00001e02e9a2bb369e73812ebcf30b56', 'cover_small': 'https://i.scdn.co/image/ab67616d00004851e9a2bb369e73812ebcf30b56'}, {'name': 'The Genesis', 'artist': 'Nas', 'url': 'https://open.spotify.com/track/4N0olzsMpr5cAPFrzNErGv', 'duration': '01:45', 'preview_url': 'https://p.scdn.co/mp3-preview/af176b11e12a9140d7d1529dafc15fdf9e451641?cid=f17426cd426c406eb0909cb148cb0981', 'cover_big': 'https://i.scdn.co/image/ab67616d0000b273045fc920ecf4f8094888ec26', 'cover_medium': 'https://i.scdn.co/image/ab67616d00001e02045fc920ecf4f8094888ec26', 'cover_small': 'https://i.scdn.co/image/ab67616d00004851045fc920ecf4f8094888ec26'}, {'name': 'Moment Of Truth', 'artist': 'Gang Starr', 'url': 'https://open.spotify.com/track/1fotoYONO343JjbC8XvPSl', 'duration': '04:07', 'preview_url': None, 'cover_big': 'https://i.scdn.co/image/ab67616d0000b2733a76edacefe2e7a589222787', 'cover_medium': 'https://i.scdn.co/image/ab67616d00001e023a76edacefe2e7a589222787', 'cover_small': 'https://i.scdn.co/image/ab67616d000048513a76edacefe2e7a589222787'}, {'name': 'Selfish', 'artist': 'Slum Village, John Legend, Kanye West', 'url': 'https://open.spotify.com/track/7sZCAHP2duHwr5M5K7lHsb', 'duration': '03:45', 'preview_url': None, 'cover_big': 'https://i.scdn.co/image/ab67616d0000b2731f97d8b1eb559b99c1c12db6', 'cover_medium': 'https://i.scdn.co/image/ab67616d00001e021f97d8b1eb559b99c1c12db6', 'cover_small': 'https://i.scdn.co/image/ab67616d000048511f97d8b1eb559b99c1c12db6'}], 'total_duration': '01:17:40', 'date': '12/3/2024'}\n"
     ]
    }
   ],
   "source": [
    "import spotipy\n",
    "from spotipy.oauth2 import SpotifyClientCredentials, SpotifyOAuth\n",
    "spotify_client=spotipy.Spotify(auth_manager=SpotifyClientCredentials(client_id=\"f17426cd426c406eb0909cb148cb0981\",client_secret='0f16e1667986460c9841c0aa0944415a'))\n",
    "spotify_user=spotipy.Spotify(auth_manager=SpotifyOAuth())\n",
    "from random import getrandbits\n",
    "from datetime import datetime\n",
    "from ast import literal_eval\n",
    "\n",
    "def milliseconds_to_string_duration(milliseconds):\n",
    "    seconds, milliseconds = divmod(milliseconds, 1000)\n",
    "    minutes, seconds = divmod(seconds, 60)\n",
    "    hours, minutes = divmod(minutes, 60)\n",
    "\n",
    "    duration_string = \"{:02}:{:02}\".format(minutes, seconds)\n",
    "\n",
    "    if hours > 0:\n",
    "        duration_string = \"{:02}:{:02}\".format(hours, duration_string)\n",
    "\n",
    "    return duration_string\n",
    "\n",
    "class Song:\n",
    "    def __init__(self, name, artist, url, duration,\n",
    "                 preview_url, cover_big, cover_medium, cover_small):\n",
    "        self.name = name\n",
    "        self.artist = artist\n",
    "        self.url = url\n",
    "        self.duration = duration\n",
    "        self.preview_url = preview_url\n",
    "        self.cover_big = cover_big\n",
    "        self.cover_medium = cover_medium\n",
    "        self.cover_small = cover_small\n",
    "\n",
    "    def __repr__(self):\n",
    "        return f'{self.name} by {self.artist}'\n",
    "\n",
    "class Playlist:\n",
    "    def __init__(self, track):\n",
    "        self.id = getrandbits(128)\n",
    "        self.songs = []\n",
    "        self.total_duration=0\n",
    "        current_day = datetime.now().day\n",
    "        current_month = datetime.now().month\n",
    "        current_year = datetime.now().year\n",
    "        self.date = f'{current_day}/{current_month}/{current_year}'\n",
    "        recomendations = spotify_client.recommendations(seed_tracks=[track])\n",
    "        recomendations = recomendations['tracks']\n",
    "        for track in recomendations:\n",
    "            name = track['name']\n",
    "            artist = ', '.join([artist['name'] for artist in track['artists']])\n",
    "            url = track['external_urls']['spotify']\n",
    "            duration = track['duration_ms']\n",
    "            self.total_duration+=duration\n",
    "            duration=milliseconds_to_string_duration(duration)\n",
    "            preview_url = track['preview_url']\n",
    "            cover_big = track['album']['images'][0]['url']\n",
    "            cover_medium = track['album']['images'][1]['url']\n",
    "            cover_small = track['album']['images'][2]['url']\n",
    "            song = Song(name, artist, url, duration, preview_url,\n",
    "                        cover_big, cover_medium, cover_small)\n",
    "            self.songs.append(song.__dict__)\n",
    "        self.total_duration=milliseconds_to_string_duration(self.total_duration)\n",
    "\n",
    "    def __repr__(self):\n",
    "        return f'{self.total_duration}{[(song.url, song.duration) for song in self.songs]}'\n",
    "\n",
    "\n",
    "print(song)\n",
    "playlist=Playlist(\"https://open.spotify.com/track/7G3lxTsMfSx4yarMkfgnTC?si=84182a00218d4d7d\")\n",
    "print(playlist.__dict__)"
   ]
  }
 ],
 "metadata": {
  "kernelspec": {
   "display_name": "Python 3",
   "language": "python",
   "name": "python3"
  },
  "language_info": {
   "codemirror_mode": {
    "name": "ipython",
    "version": 3
   },
   "file_extension": ".py",
   "mimetype": "text/x-python",
   "name": "python",
   "nbconvert_exporter": "python",
   "pygments_lexer": "ipython3",
   "version": "3.11.8"
  }
 },
 "nbformat": 4,
 "nbformat_minor": 2
}
